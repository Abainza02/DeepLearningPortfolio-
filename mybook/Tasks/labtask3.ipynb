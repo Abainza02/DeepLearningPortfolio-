{
 "cells": [
  {
   "cell_type": "markdown",
   "id": "42730525",
   "metadata": {},
   "source": [
    "# Lab Task III\n"
   ]
  },
  {
   "cell_type": "code",
   "execution_count": 1,
   "id": "5f88896c",
   "metadata": {},
   "outputs": [],
   "source": [
    "import numpy as np"
   ]
  },
  {
   "cell_type": "code",
   "execution_count": 2,
   "id": "79def009",
   "metadata": {},
   "outputs": [],
   "source": [
    "# Input and target\n",
    "x = np.array([1, 0, 1])\n",
    "y = np.array([1])\n",
    "\n",
    "# Initialize parameters\n",
    "np.random.seed(42)\n",
    "w = np.random.randn(3)   # 3 input weights\n",
    "b = np.random.randn()    # bias\n",
    "\n",
    "# Learning rate\n",
    "lr = 0.001"
   ]
  },
  {
   "cell_type": "code",
   "execution_count": 3,
   "id": "79a7d9e4",
   "metadata": {},
   "outputs": [
    {
     "name": "stdout",
     "output_type": "stream",
     "text": [
      "Forward Propagation:\n",
      "z (weighted sum): 2.6674\n",
      "a (ReLU output): 2.6674\n",
      "loss: 1.390166\n"
     ]
    }
   ],
   "source": [
    "# ----- Forward Propagation -----\n",
    "\n",
    "z = np.dot(w, x) + b         # weighted sum\n",
    "a = np.maximum(0, z)         # ReLU activation\n",
    "\n",
    "# Compute Mean Squared Error loss\n",
    "loss = 0.5 * (a - y)**2\n",
    "\n",
    "print(\"Forward Propagation:\")\n",
    "print(f\"z (weighted sum): {z:.4f}\")\n",
    "print(f\"a (ReLU output): {a:.4f}\")\n",
    "print(f\"loss: {loss[0]:.6f}\")"
   ]
  },
  {
   "cell_type": "code",
   "execution_count": 4,
   "id": "e6ea72d4",
   "metadata": {},
   "outputs": [
    {
     "name": "stdout",
     "output_type": "stream",
     "text": [
      "Backward Propagation:\n",
      "dL/da: [1.66743255]\n",
      "da/dz (ReLU'): 1.0\n",
      "dL/dz: [1.66743255]\n",
      "dL/dw: [1.66743255 0.         1.66743255]\n",
      "dL/db: [1.66743255]\n",
      "\n",
      "Updated weights: [ 0.49504672 -0.1382643   0.64602111]\n",
      "Updated bias: [1.52136242]\n"
     ]
    }
   ],
   "source": [
    "# ----- Backward Propagation -----\n",
    "\n",
    "# Derivative of loss wrt output a\n",
    "dL_da = a - y\n",
    "\n",
    "# Derivative of ReLU wrt z\n",
    "da_dz = 1.0 if z > 0 else 0.0\n",
    "\n",
    "# Chain rule: dL/dz\n",
    "dL_dz = dL_da * da_dz\n",
    "\n",
    "# Gradients for weights and bias\n",
    "dL_dw = dL_dz * x\n",
    "dL_db = dL_dz\n",
    "\n",
    "# ----- Parameter Update -----\n",
    "w -= lr * dL_dw\n",
    "b -= lr * dL_db\n",
    "\n",
    "print(\"Backward Propagation:\")\n",
    "print(f\"dL/da: {dL_da}\")\n",
    "print(f\"da/dz (ReLU'): {da_dz}\")\n",
    "print(f\"dL/dz: {dL_dz}\")\n",
    "print(f\"dL/dw: {dL_dw}\")\n",
    "print(f\"dL/db: {dL_db}\")\n",
    "print(\"\\nUpdated weights:\", w)\n",
    "print(\"Updated bias:\", b)"
   ]
  }
 ],
 "metadata": {
  "kernelspec": {
   "display_name": "Python 3 (ipykernel)",
   "language": "python",
   "name": "python3"
  },
  "language_info": {
   "codemirror_mode": {
    "name": "ipython",
    "version": 3
   },
   "file_extension": ".py",
   "mimetype": "text/x-python",
   "name": "python",
   "nbconvert_exporter": "python",
   "pygments_lexer": "ipython3",
   "version": "3.12.4"
  }
 },
 "nbformat": 4,
 "nbformat_minor": 5
}
